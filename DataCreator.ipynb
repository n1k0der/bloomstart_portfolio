{
 "cells": [
  {
   "cell_type": "code",
   "execution_count": 199,
   "id": "e99d6212-a59d-4993-a0c8-c046f5555d78",
   "metadata": {},
   "outputs": [],
   "source": [
    "import pandas as pd\n",
    "import random\n",
    "import time"
   ]
  },
  {
   "cell_type": "markdown",
   "id": "24851929-7aec-421e-af8b-50b6e6cc3084",
   "metadata": {},
   "source": [
    "# Creating the table for flowers in the database"
   ]
  },
  {
   "cell_type": "code",
   "execution_count": 200,
   "id": "56f39b66-a957-4d6e-b639-612ae82c1b93",
   "metadata": {},
   "outputs": [],
   "source": [
    "flower_types = ['alstromelia', 'bouquet_rose_white', 'bouquet_rose_red', 'bouquet_rose_yellow',\n",
    "               'bouquet_rose_orange', 'pom', 'tulip', 'hydrangea', 'carnation', 'minicarnation',\n",
    "               'spiders', 'spray rose', 'gypsophilia']"
   ]
  },
  {
   "cell_type": "code",
   "execution_count": 201,
   "id": "47d2b390-60be-4b88-9f93-0daabbd528f5",
   "metadata": {},
   "outputs": [],
   "source": [
    "damage = [3, 1, 1, 1,\n",
    "           1, 1.5, 2, 1, 2, 3,\n",
    "           2, 2, 4]\n",
    "flower_types_with_damage = []\n",
    "\n",
    "for i in range(len(flower_types)):\n",
    "    flower_types_with_damage.append((flower_types[i], damage[i]))"
   ]
  },
  {
   "cell_type": "code",
   "execution_count": 202,
   "id": "fdbedee5-2f15-4159-9d1d-abd8436686e0",
   "metadata": {},
   "outputs": [],
   "source": [
    "df_flowers = pd.DataFrame(flower_types_with_damage, columns = ['flower_name', 'damage_function']).reset_index(\n",
    ").rename(columns = {'index': 'flower_id'})"
   ]
  },
  {
   "cell_type": "code",
   "execution_count": 203,
   "id": "cc8316bd-dd50-49b9-832c-03d95abe0724",
   "metadata": {},
   "outputs": [
    {
     "data": {
      "text/html": [
       "<div>\n",
       "<style scoped>\n",
       "    .dataframe tbody tr th:only-of-type {\n",
       "        vertical-align: middle;\n",
       "    }\n",
       "\n",
       "    .dataframe tbody tr th {\n",
       "        vertical-align: top;\n",
       "    }\n",
       "\n",
       "    .dataframe thead th {\n",
       "        text-align: right;\n",
       "    }\n",
       "</style>\n",
       "<table border=\"1\" class=\"dataframe\">\n",
       "  <thead>\n",
       "    <tr style=\"text-align: right;\">\n",
       "      <th></th>\n",
       "      <th>flower_id</th>\n",
       "      <th>flower_name</th>\n",
       "      <th>damage_function</th>\n",
       "    </tr>\n",
       "  </thead>\n",
       "  <tbody>\n",
       "    <tr>\n",
       "      <th>0</th>\n",
       "      <td>0</td>\n",
       "      <td>alstromelia</td>\n",
       "      <td>3.0</td>\n",
       "    </tr>\n",
       "    <tr>\n",
       "      <th>1</th>\n",
       "      <td>1</td>\n",
       "      <td>bouquet_rose_white</td>\n",
       "      <td>1.0</td>\n",
       "    </tr>\n",
       "    <tr>\n",
       "      <th>2</th>\n",
       "      <td>2</td>\n",
       "      <td>bouquet_rose_red</td>\n",
       "      <td>1.0</td>\n",
       "    </tr>\n",
       "    <tr>\n",
       "      <th>3</th>\n",
       "      <td>3</td>\n",
       "      <td>bouquet_rose_yellow</td>\n",
       "      <td>1.0</td>\n",
       "    </tr>\n",
       "    <tr>\n",
       "      <th>4</th>\n",
       "      <td>4</td>\n",
       "      <td>bouquet_rose_orange</td>\n",
       "      <td>1.0</td>\n",
       "    </tr>\n",
       "    <tr>\n",
       "      <th>5</th>\n",
       "      <td>5</td>\n",
       "      <td>pom</td>\n",
       "      <td>1.5</td>\n",
       "    </tr>\n",
       "    <tr>\n",
       "      <th>6</th>\n",
       "      <td>6</td>\n",
       "      <td>tulip</td>\n",
       "      <td>2.0</td>\n",
       "    </tr>\n",
       "    <tr>\n",
       "      <th>7</th>\n",
       "      <td>7</td>\n",
       "      <td>hydrangea</td>\n",
       "      <td>1.0</td>\n",
       "    </tr>\n",
       "    <tr>\n",
       "      <th>8</th>\n",
       "      <td>8</td>\n",
       "      <td>carnation</td>\n",
       "      <td>2.0</td>\n",
       "    </tr>\n",
       "    <tr>\n",
       "      <th>9</th>\n",
       "      <td>9</td>\n",
       "      <td>minicarnation</td>\n",
       "      <td>3.0</td>\n",
       "    </tr>\n",
       "    <tr>\n",
       "      <th>10</th>\n",
       "      <td>10</td>\n",
       "      <td>spiders</td>\n",
       "      <td>2.0</td>\n",
       "    </tr>\n",
       "    <tr>\n",
       "      <th>11</th>\n",
       "      <td>11</td>\n",
       "      <td>spray rose</td>\n",
       "      <td>2.0</td>\n",
       "    </tr>\n",
       "    <tr>\n",
       "      <th>12</th>\n",
       "      <td>12</td>\n",
       "      <td>gypsophilia</td>\n",
       "      <td>4.0</td>\n",
       "    </tr>\n",
       "  </tbody>\n",
       "</table>\n",
       "</div>"
      ],
      "text/plain": [
       "    flower_id          flower_name  damage_function\n",
       "0           0          alstromelia              3.0\n",
       "1           1   bouquet_rose_white              1.0\n",
       "2           2     bouquet_rose_red              1.0\n",
       "3           3  bouquet_rose_yellow              1.0\n",
       "4           4  bouquet_rose_orange              1.0\n",
       "5           5                  pom              1.5\n",
       "6           6                tulip              2.0\n",
       "7           7            hydrangea              1.0\n",
       "8           8            carnation              2.0\n",
       "9           9        minicarnation              3.0\n",
       "10         10              spiders              2.0\n",
       "11         11           spray rose              2.0\n",
       "12         12          gypsophilia              4.0"
      ]
     },
     "execution_count": 203,
     "metadata": {},
     "output_type": "execute_result"
    }
   ],
   "source": [
    "df_flowers"
   ]
  },
  {
   "cell_type": "code",
   "execution_count": 204,
   "id": "1d351478-d87c-4c2b-99b2-39ee1ecd9ca4",
   "metadata": {},
   "outputs": [],
   "source": [
    "df_flowers.to_csv('data/flowers.csv', index=False)"
   ]
  },
  {
   "cell_type": "markdown",
   "id": "c23276de-163b-4e72-b064-7e6d3a5abc7e",
   "metadata": {},
   "source": [
    "# Creating the table for orders in the database"
   ]
  },
  {
   "cell_type": "code",
   "execution_count": 205,
   "id": "98120395-dc8c-44be-828d-2b98047e57e2",
   "metadata": {},
   "outputs": [],
   "source": [
    "customers = pd.read_csv('data/customers.csv')\n",
    "flowers = pd.read_csv('data/flowers.csv')"
   ]
  },
  {
   "cell_type": "code",
   "execution_count": 206,
   "id": "00b34f02-bc1f-4dea-b27e-d1a70d8202cb",
   "metadata": {},
   "outputs": [],
   "source": [
    "def str_time_prop(start, end, time_format, prop):\n",
    "    \"\"\"Get a time at a proportion of a range of two formatted times.\n",
    "\n",
    "    start and end should be strings specifying times formatted in the\n",
    "    given format (strftime-style), giving an interval [start, end].\n",
    "    prop specifies how a proportion of the interval to be taken after\n",
    "    start.  The returned time will be in the specified format.\n",
    "    \"\"\"\n",
    "\n",
    "    stime = time.mktime(time.strptime(start, time_format))\n",
    "    etime = time.mktime(time.strptime(end, time_format))\n",
    "\n",
    "    ptime = stime + prop * (etime - stime)\n",
    "\n",
    "    return time.strftime(time_format, time.localtime(ptime))\n",
    "\n",
    "\n",
    "def random_date(start, end, prop):\n",
    "    return str_time_prop(start, end, '%Y/%m/%d %I:%M %p', prop)"
   ]
  },
  {
   "cell_type": "code",
   "execution_count": 207,
   "id": "9016f337-d74b-4dd7-83ea-2e2a46335822",
   "metadata": {},
   "outputs": [
    {
     "data": {
      "text/plain": [
       "125"
      ]
     },
     "execution_count": 207,
     "metadata": {},
     "output_type": "execute_result"
    }
   ],
   "source": [
    "random.choice(customers.customer_id)"
   ]
  },
  {
   "cell_type": "code",
   "execution_count": 208,
   "id": "32e11f88-21a8-4f9f-a7b0-0735c944aec8",
   "metadata": {},
   "outputs": [],
   "source": [
    "rows_orders = []\n",
    "counter = 0\n",
    "for i in range(2000):\n",
    "    '''Schema: order_id, customer_id, order_date, flower_id, quantity'''\n",
    "    rows_orders.append((counter, \n",
    "                        random.choice(customers.customer_id),\n",
    "                        random_date(\"2024/2/15 1:30 PM\", \"2024/4/30 4:50 AM\", random.random()),\n",
    "                        random.choice(flowers.flower_id),\n",
    "                        random.choice(range(1, 30))\n",
    "                       ))\n",
    "    counter += 1\n",
    "    "
   ]
  },
  {
   "cell_type": "code",
   "execution_count": 209,
   "id": "1cfb4e5f-c51f-41a2-ae6b-079be76f8ff4",
   "metadata": {},
   "outputs": [],
   "source": [
    "orders_df = pd.DataFrame(rows_orders, columns = ['order_id', 'customer_id', 'order_date', 'flower_id', 'quantity'])"
   ]
  },
  {
   "cell_type": "code",
   "execution_count": 210,
   "id": "7591f73e-4e2b-4443-9741-c33bf84f9bda",
   "metadata": {},
   "outputs": [
    {
     "data": {
      "text/html": [
       "<div>\n",
       "<style scoped>\n",
       "    .dataframe tbody tr th:only-of-type {\n",
       "        vertical-align: middle;\n",
       "    }\n",
       "\n",
       "    .dataframe tbody tr th {\n",
       "        vertical-align: top;\n",
       "    }\n",
       "\n",
       "    .dataframe thead th {\n",
       "        text-align: right;\n",
       "    }\n",
       "</style>\n",
       "<table border=\"1\" class=\"dataframe\">\n",
       "  <thead>\n",
       "    <tr style=\"text-align: right;\">\n",
       "      <th></th>\n",
       "      <th>order_id</th>\n",
       "      <th>customer_id</th>\n",
       "      <th>order_date</th>\n",
       "      <th>flower_id</th>\n",
       "      <th>quantity</th>\n",
       "    </tr>\n",
       "  </thead>\n",
       "  <tbody>\n",
       "    <tr>\n",
       "      <th>0</th>\n",
       "      <td>0</td>\n",
       "      <td>17</td>\n",
       "      <td>2024/03/13 01:47 PM</td>\n",
       "      <td>3</td>\n",
       "      <td>6</td>\n",
       "    </tr>\n",
       "    <tr>\n",
       "      <th>1</th>\n",
       "      <td>1</td>\n",
       "      <td>12</td>\n",
       "      <td>2024/02/17 02:29 PM</td>\n",
       "      <td>3</td>\n",
       "      <td>19</td>\n",
       "    </tr>\n",
       "    <tr>\n",
       "      <th>2</th>\n",
       "      <td>2</td>\n",
       "      <td>216</td>\n",
       "      <td>2024/03/25 04:02 AM</td>\n",
       "      <td>2</td>\n",
       "      <td>28</td>\n",
       "    </tr>\n",
       "    <tr>\n",
       "      <th>3</th>\n",
       "      <td>3</td>\n",
       "      <td>104</td>\n",
       "      <td>2024/03/28 06:40 PM</td>\n",
       "      <td>2</td>\n",
       "      <td>5</td>\n",
       "    </tr>\n",
       "    <tr>\n",
       "      <th>4</th>\n",
       "      <td>4</td>\n",
       "      <td>405</td>\n",
       "      <td>2024/02/16 03:35 AM</td>\n",
       "      <td>3</td>\n",
       "      <td>18</td>\n",
       "    </tr>\n",
       "  </tbody>\n",
       "</table>\n",
       "</div>"
      ],
      "text/plain": [
       "   order_id  customer_id           order_date  flower_id  quantity\n",
       "0         0           17  2024/03/13 01:47 PM          3         6\n",
       "1         1           12  2024/02/17 02:29 PM          3        19\n",
       "2         2          216  2024/03/25 04:02 AM          2        28\n",
       "3         3          104  2024/03/28 06:40 PM          2         5\n",
       "4         4          405  2024/02/16 03:35 AM          3        18"
      ]
     },
     "execution_count": 210,
     "metadata": {},
     "output_type": "execute_result"
    }
   ],
   "source": [
    "orders_df.head()"
   ]
  },
  {
   "cell_type": "code",
   "execution_count": 211,
   "id": "ca0ca588-cede-4e46-91b2-242dba8e098d",
   "metadata": {},
   "outputs": [],
   "source": [
    "orders_df.to_csv('data/orders.csv', index=False)"
   ]
  },
  {
   "cell_type": "markdown",
   "id": "5cd7ddf5-92a2-4c77-9e2b-1f80c8d30a94",
   "metadata": {},
   "source": [
    "# Creating tables for shipments in the database"
   ]
  },
  {
   "cell_type": "code",
   "execution_count": 212,
   "id": "ed84d3f0-c6fb-4ae7-8292-fd8ae392e193",
   "metadata": {},
   "outputs": [],
   "source": [
    "shipment_orders = []\n",
    "counter = 0\n",
    "for i in range(300):\n",
    "    '''Schema: shipment_id, shipment_date, flower_id, quantity'''\n",
    "    shipment_orders.append((counter, \n",
    "                        random_date(\"2024/2/15 1:30 PM\", \"2024/4/30 4:50 AM\", random.random()),\n",
    "                        random.choice(flowers.flower_id),\n",
    "                        random.choice(range(200, 2000))\n",
    "                       ))\n",
    "    counter += 1"
   ]
  },
  {
   "cell_type": "code",
   "execution_count": 213,
   "id": "d81b7b51-dca7-4744-82cd-a98311fb20ab",
   "metadata": {},
   "outputs": [],
   "source": [
    "shipments_df = pd.DataFrame(shipment_orders, columns = ['shipment_id', 'shipment_date', 'flower_id', 'quantity'])"
   ]
  },
  {
   "cell_type": "code",
   "execution_count": 214,
   "id": "62f98bde-4a6c-4b72-a1e1-be2fb39d0544",
   "metadata": {},
   "outputs": [
    {
     "data": {
      "text/html": [
       "<div>\n",
       "<style scoped>\n",
       "    .dataframe tbody tr th:only-of-type {\n",
       "        vertical-align: middle;\n",
       "    }\n",
       "\n",
       "    .dataframe tbody tr th {\n",
       "        vertical-align: top;\n",
       "    }\n",
       "\n",
       "    .dataframe thead th {\n",
       "        text-align: right;\n",
       "    }\n",
       "</style>\n",
       "<table border=\"1\" class=\"dataframe\">\n",
       "  <thead>\n",
       "    <tr style=\"text-align: right;\">\n",
       "      <th></th>\n",
       "      <th>shipment_id</th>\n",
       "      <th>shipment_date</th>\n",
       "      <th>flower_id</th>\n",
       "      <th>quantity</th>\n",
       "    </tr>\n",
       "  </thead>\n",
       "  <tbody>\n",
       "    <tr>\n",
       "      <th>0</th>\n",
       "      <td>0</td>\n",
       "      <td>2024/04/09 01:28 AM</td>\n",
       "      <td>6</td>\n",
       "      <td>634</td>\n",
       "    </tr>\n",
       "    <tr>\n",
       "      <th>1</th>\n",
       "      <td>1</td>\n",
       "      <td>2024/03/07 05:15 PM</td>\n",
       "      <td>0</td>\n",
       "      <td>1309</td>\n",
       "    </tr>\n",
       "    <tr>\n",
       "      <th>2</th>\n",
       "      <td>2</td>\n",
       "      <td>2024/02/17 10:48 AM</td>\n",
       "      <td>11</td>\n",
       "      <td>741</td>\n",
       "    </tr>\n",
       "    <tr>\n",
       "      <th>3</th>\n",
       "      <td>3</td>\n",
       "      <td>2024/04/18 05:27 AM</td>\n",
       "      <td>3</td>\n",
       "      <td>1671</td>\n",
       "    </tr>\n",
       "    <tr>\n",
       "      <th>4</th>\n",
       "      <td>4</td>\n",
       "      <td>2024/03/21 06:30 AM</td>\n",
       "      <td>11</td>\n",
       "      <td>827</td>\n",
       "    </tr>\n",
       "    <tr>\n",
       "      <th>...</th>\n",
       "      <td>...</td>\n",
       "      <td>...</td>\n",
       "      <td>...</td>\n",
       "      <td>...</td>\n",
       "    </tr>\n",
       "    <tr>\n",
       "      <th>295</th>\n",
       "      <td>295</td>\n",
       "      <td>2024/03/24 01:06 PM</td>\n",
       "      <td>7</td>\n",
       "      <td>433</td>\n",
       "    </tr>\n",
       "    <tr>\n",
       "      <th>296</th>\n",
       "      <td>296</td>\n",
       "      <td>2024/04/23 06:04 PM</td>\n",
       "      <td>0</td>\n",
       "      <td>1619</td>\n",
       "    </tr>\n",
       "    <tr>\n",
       "      <th>297</th>\n",
       "      <td>297</td>\n",
       "      <td>2024/03/23 05:21 AM</td>\n",
       "      <td>9</td>\n",
       "      <td>971</td>\n",
       "    </tr>\n",
       "    <tr>\n",
       "      <th>298</th>\n",
       "      <td>298</td>\n",
       "      <td>2024/04/06 07:10 AM</td>\n",
       "      <td>10</td>\n",
       "      <td>601</td>\n",
       "    </tr>\n",
       "    <tr>\n",
       "      <th>299</th>\n",
       "      <td>299</td>\n",
       "      <td>2024/02/16 02:18 PM</td>\n",
       "      <td>0</td>\n",
       "      <td>799</td>\n",
       "    </tr>\n",
       "  </tbody>\n",
       "</table>\n",
       "<p>300 rows × 4 columns</p>\n",
       "</div>"
      ],
      "text/plain": [
       "     shipment_id        shipment_date  flower_id  quantity\n",
       "0              0  2024/04/09 01:28 AM          6       634\n",
       "1              1  2024/03/07 05:15 PM          0      1309\n",
       "2              2  2024/02/17 10:48 AM         11       741\n",
       "3              3  2024/04/18 05:27 AM          3      1671\n",
       "4              4  2024/03/21 06:30 AM         11       827\n",
       "..           ...                  ...        ...       ...\n",
       "295          295  2024/03/24 01:06 PM          7       433\n",
       "296          296  2024/04/23 06:04 PM          0      1619\n",
       "297          297  2024/03/23 05:21 AM          9       971\n",
       "298          298  2024/04/06 07:10 AM         10       601\n",
       "299          299  2024/02/16 02:18 PM          0       799\n",
       "\n",
       "[300 rows x 4 columns]"
      ]
     },
     "execution_count": 214,
     "metadata": {},
     "output_type": "execute_result"
    }
   ],
   "source": [
    "shipments_df"
   ]
  },
  {
   "cell_type": "code",
   "execution_count": 215,
   "id": "2db7f107-d371-4583-adfb-54d07edddea8",
   "metadata": {},
   "outputs": [],
   "source": [
    "shipments_df.to_csv('data/shipments.csv', index=False)"
   ]
  }
 ],
 "metadata": {
  "kernelspec": {
   "display_name": "Python 3 (ipykernel)",
   "language": "python",
   "name": "python3"
  },
  "language_info": {
   "codemirror_mode": {
    "name": "ipython",
    "version": 3
   },
   "file_extension": ".py",
   "mimetype": "text/x-python",
   "name": "python",
   "nbconvert_exporter": "python",
   "pygments_lexer": "ipython3",
   "version": "3.11.7"
  }
 },
 "nbformat": 4,
 "nbformat_minor": 5
}
