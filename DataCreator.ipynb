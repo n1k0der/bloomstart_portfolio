{
 "cells": [
  {
   "cell_type": "code",
   "execution_count": 39,
   "id": "e99d6212-a59d-4993-a0c8-c046f5555d78",
   "metadata": {},
   "outputs": [],
   "source": [
    "import pandas as pd\n",
    "import random\n",
    "import time"
   ]
  },
  {
   "cell_type": "markdown",
   "id": "24851929-7aec-421e-af8b-50b6e6cc3084",
   "metadata": {},
   "source": [
    "# Creating the table for flowers in the database"
   ]
  },
  {
   "cell_type": "code",
   "execution_count": 40,
   "id": "56f39b66-a957-4d6e-b639-612ae82c1b93",
   "metadata": {},
   "outputs": [],
   "source": [
    "flower_types = ['alstromelia', 'bouquet_rose_white', 'bouquet_rose_red', 'bouquet_rose_yellow',\n",
    "               'bouquet_rose_orange', 'pom', 'tulip', 'hydrangea', 'carnation', 'minicarnation',\n",
    "               'spiders', 'spray rose', 'gypsophilia']"
   ]
  },
  {
   "cell_type": "code",
   "execution_count": 43,
   "id": "47d2b390-60be-4b88-9f93-0daabbd528f5",
   "metadata": {},
   "outputs": [],
   "source": [
    "damage = [3, 1, 1, 1,\n",
    "           1, 1.5, 2, 1, 2, 3,\n",
    "           2, 2, 4]\n",
    "cost = [ 5, 10, 10, 10,\n",
    "        10, 7, 5, 10, 8, 6,\n",
    "        9, 5, 3    \n",
    "        ]\n",
    "flower_types_with_damage = []\n",
    "\n",
    "for i in range(len(flower_types)):\n",
    "    flower_types_with_damage.append((flower_types[i], damage[i], cost[i]))"
   ]
  },
  {
   "cell_type": "code",
   "execution_count": 44,
   "id": "fdbedee5-2f15-4159-9d1d-abd8436686e0",
   "metadata": {},
   "outputs": [],
   "source": [
    "df_flowers = pd.DataFrame(flower_types_with_damage, columns = ['flower_name', 'damage_function', 'cost_cad']\n",
    "                         ).reset_index(\n",
    ").rename(columns = {'index': 'flower_id'})"
   ]
  },
  {
   "cell_type": "code",
   "execution_count": 45,
   "id": "cc8316bd-dd50-49b9-832c-03d95abe0724",
   "metadata": {},
   "outputs": [
    {
     "data": {
      "text/html": [
       "<div>\n",
       "<style scoped>\n",
       "    .dataframe tbody tr th:only-of-type {\n",
       "        vertical-align: middle;\n",
       "    }\n",
       "\n",
       "    .dataframe tbody tr th {\n",
       "        vertical-align: top;\n",
       "    }\n",
       "\n",
       "    .dataframe thead th {\n",
       "        text-align: right;\n",
       "    }\n",
       "</style>\n",
       "<table border=\"1\" class=\"dataframe\">\n",
       "  <thead>\n",
       "    <tr style=\"text-align: right;\">\n",
       "      <th></th>\n",
       "      <th>flower_id</th>\n",
       "      <th>flower_name</th>\n",
       "      <th>damage_function</th>\n",
       "      <th>cost_cad</th>\n",
       "    </tr>\n",
       "  </thead>\n",
       "  <tbody>\n",
       "    <tr>\n",
       "      <th>0</th>\n",
       "      <td>0</td>\n",
       "      <td>alstromelia</td>\n",
       "      <td>3.0</td>\n",
       "      <td>5</td>\n",
       "    </tr>\n",
       "    <tr>\n",
       "      <th>1</th>\n",
       "      <td>1</td>\n",
       "      <td>bouquet_rose_white</td>\n",
       "      <td>1.0</td>\n",
       "      <td>10</td>\n",
       "    </tr>\n",
       "    <tr>\n",
       "      <th>2</th>\n",
       "      <td>2</td>\n",
       "      <td>bouquet_rose_red</td>\n",
       "      <td>1.0</td>\n",
       "      <td>10</td>\n",
       "    </tr>\n",
       "    <tr>\n",
       "      <th>3</th>\n",
       "      <td>3</td>\n",
       "      <td>bouquet_rose_yellow</td>\n",
       "      <td>1.0</td>\n",
       "      <td>10</td>\n",
       "    </tr>\n",
       "    <tr>\n",
       "      <th>4</th>\n",
       "      <td>4</td>\n",
       "      <td>bouquet_rose_orange</td>\n",
       "      <td>1.0</td>\n",
       "      <td>10</td>\n",
       "    </tr>\n",
       "    <tr>\n",
       "      <th>5</th>\n",
       "      <td>5</td>\n",
       "      <td>pom</td>\n",
       "      <td>1.5</td>\n",
       "      <td>7</td>\n",
       "    </tr>\n",
       "    <tr>\n",
       "      <th>6</th>\n",
       "      <td>6</td>\n",
       "      <td>tulip</td>\n",
       "      <td>2.0</td>\n",
       "      <td>5</td>\n",
       "    </tr>\n",
       "    <tr>\n",
       "      <th>7</th>\n",
       "      <td>7</td>\n",
       "      <td>hydrangea</td>\n",
       "      <td>1.0</td>\n",
       "      <td>10</td>\n",
       "    </tr>\n",
       "    <tr>\n",
       "      <th>8</th>\n",
       "      <td>8</td>\n",
       "      <td>carnation</td>\n",
       "      <td>2.0</td>\n",
       "      <td>8</td>\n",
       "    </tr>\n",
       "    <tr>\n",
       "      <th>9</th>\n",
       "      <td>9</td>\n",
       "      <td>minicarnation</td>\n",
       "      <td>3.0</td>\n",
       "      <td>6</td>\n",
       "    </tr>\n",
       "    <tr>\n",
       "      <th>10</th>\n",
       "      <td>10</td>\n",
       "      <td>spiders</td>\n",
       "      <td>2.0</td>\n",
       "      <td>9</td>\n",
       "    </tr>\n",
       "    <tr>\n",
       "      <th>11</th>\n",
       "      <td>11</td>\n",
       "      <td>spray rose</td>\n",
       "      <td>2.0</td>\n",
       "      <td>5</td>\n",
       "    </tr>\n",
       "    <tr>\n",
       "      <th>12</th>\n",
       "      <td>12</td>\n",
       "      <td>gypsophilia</td>\n",
       "      <td>4.0</td>\n",
       "      <td>3</td>\n",
       "    </tr>\n",
       "  </tbody>\n",
       "</table>\n",
       "</div>"
      ],
      "text/plain": [
       "    flower_id          flower_name  damage_function  cost_cad\n",
       "0           0          alstromelia              3.0         5\n",
       "1           1   bouquet_rose_white              1.0        10\n",
       "2           2     bouquet_rose_red              1.0        10\n",
       "3           3  bouquet_rose_yellow              1.0        10\n",
       "4           4  bouquet_rose_orange              1.0        10\n",
       "5           5                  pom              1.5         7\n",
       "6           6                tulip              2.0         5\n",
       "7           7            hydrangea              1.0        10\n",
       "8           8            carnation              2.0         8\n",
       "9           9        minicarnation              3.0         6\n",
       "10         10              spiders              2.0         9\n",
       "11         11           spray rose              2.0         5\n",
       "12         12          gypsophilia              4.0         3"
      ]
     },
     "execution_count": 45,
     "metadata": {},
     "output_type": "execute_result"
    }
   ],
   "source": [
    "df_flowers"
   ]
  },
  {
   "cell_type": "code",
   "execution_count": 46,
   "id": "1d351478-d87c-4c2b-99b2-39ee1ecd9ca4",
   "metadata": {},
   "outputs": [],
   "source": [
    "df_flowers.to_csv('data/flowers.csv', index=False)"
   ]
  },
  {
   "cell_type": "markdown",
   "id": "c23276de-163b-4e72-b064-7e6d3a5abc7e",
   "metadata": {},
   "source": [
    "# Creating the table for orders in the database"
   ]
  },
  {
   "cell_type": "code",
   "execution_count": 47,
   "id": "98120395-dc8c-44be-828d-2b98047e57e2",
   "metadata": {},
   "outputs": [],
   "source": [
    "customers = pd.read_csv('data/customers.csv')\n",
    "flowers = pd.read_csv('data/flowers.csv')"
   ]
  },
  {
   "cell_type": "code",
   "execution_count": 48,
   "id": "00b34f02-bc1f-4dea-b27e-d1a70d8202cb",
   "metadata": {},
   "outputs": [],
   "source": [
    "def str_time_prop(start, end, time_format, prop):\n",
    "    \"\"\"Get a time at a proportion of a range of two formatted times.\n",
    "\n",
    "    start and end should be strings specifying times formatted in the\n",
    "    given format (strftime-style), giving an interval [start, end].\n",
    "    prop specifies how a proportion of the interval to be taken after\n",
    "    start.  The returned time will be in the specified format.\n",
    "    \"\"\"\n",
    "\n",
    "    stime = time.mktime(time.strptime(start, time_format))\n",
    "    etime = time.mktime(time.strptime(end, time_format))\n",
    "\n",
    "    ptime = stime + prop * (etime - stime)\n",
    "\n",
    "    return time.strftime(time_format, time.localtime(ptime))\n",
    "\n",
    "\n",
    "def random_date(start, end, prop):\n",
    "    return str_time_prop(start, end, '%Y/%m/%d %I:%M %p', prop)"
   ]
  },
  {
   "cell_type": "code",
   "execution_count": 49,
   "id": "9016f337-d74b-4dd7-83ea-2e2a46335822",
   "metadata": {},
   "outputs": [
    {
     "data": {
      "text/plain": [
       "536"
      ]
     },
     "execution_count": 49,
     "metadata": {},
     "output_type": "execute_result"
    }
   ],
   "source": [
    "random.choice(customers.customer_id)"
   ]
  },
  {
   "cell_type": "code",
   "execution_count": 50,
   "id": "32e11f88-21a8-4f9f-a7b0-0735c944aec8",
   "metadata": {},
   "outputs": [],
   "source": [
    "rows_orders = []\n",
    "counter = 0\n",
    "for i in range(2000):\n",
    "    '''Schema: order_id, customer_id, order_date, flower_id, quantity'''\n",
    "    rows_orders.append((counter, \n",
    "                        random.choice(customers.customer_id),\n",
    "                        random_date(\"2024/2/15 1:30 PM\", \"2024/4/30 4:50 AM\", random.random()),\n",
    "                        random.choice(flowers.flower_id),\n",
    "                        random.choice(range(1, 30))\n",
    "                       ))\n",
    "    counter += 1\n",
    "    "
   ]
  },
  {
   "cell_type": "code",
   "execution_count": 51,
   "id": "1cfb4e5f-c51f-41a2-ae6b-079be76f8ff4",
   "metadata": {},
   "outputs": [],
   "source": [
    "orders_df = pd.DataFrame(rows_orders, columns = ['order_id', 'customer_id', 'order_date', 'flower_id', 'quantity'])"
   ]
  },
  {
   "cell_type": "code",
   "execution_count": 52,
   "id": "7591f73e-4e2b-4443-9741-c33bf84f9bda",
   "metadata": {},
   "outputs": [
    {
     "data": {
      "text/html": [
       "<div>\n",
       "<style scoped>\n",
       "    .dataframe tbody tr th:only-of-type {\n",
       "        vertical-align: middle;\n",
       "    }\n",
       "\n",
       "    .dataframe tbody tr th {\n",
       "        vertical-align: top;\n",
       "    }\n",
       "\n",
       "    .dataframe thead th {\n",
       "        text-align: right;\n",
       "    }\n",
       "</style>\n",
       "<table border=\"1\" class=\"dataframe\">\n",
       "  <thead>\n",
       "    <tr style=\"text-align: right;\">\n",
       "      <th></th>\n",
       "      <th>order_id</th>\n",
       "      <th>customer_id</th>\n",
       "      <th>order_date</th>\n",
       "      <th>flower_id</th>\n",
       "      <th>quantity</th>\n",
       "    </tr>\n",
       "  </thead>\n",
       "  <tbody>\n",
       "    <tr>\n",
       "      <th>0</th>\n",
       "      <td>0</td>\n",
       "      <td>335</td>\n",
       "      <td>2024/03/19 10:49 PM</td>\n",
       "      <td>7</td>\n",
       "      <td>26</td>\n",
       "    </tr>\n",
       "    <tr>\n",
       "      <th>1</th>\n",
       "      <td>1</td>\n",
       "      <td>35</td>\n",
       "      <td>2024/04/16 05:47 AM</td>\n",
       "      <td>5</td>\n",
       "      <td>24</td>\n",
       "    </tr>\n",
       "    <tr>\n",
       "      <th>2</th>\n",
       "      <td>2</td>\n",
       "      <td>295</td>\n",
       "      <td>2024/03/07 12:25 AM</td>\n",
       "      <td>5</td>\n",
       "      <td>20</td>\n",
       "    </tr>\n",
       "    <tr>\n",
       "      <th>3</th>\n",
       "      <td>3</td>\n",
       "      <td>421</td>\n",
       "      <td>2024/03/03 03:42 AM</td>\n",
       "      <td>3</td>\n",
       "      <td>22</td>\n",
       "    </tr>\n",
       "    <tr>\n",
       "      <th>4</th>\n",
       "      <td>4</td>\n",
       "      <td>156</td>\n",
       "      <td>2024/04/11 02:16 PM</td>\n",
       "      <td>4</td>\n",
       "      <td>20</td>\n",
       "    </tr>\n",
       "  </tbody>\n",
       "</table>\n",
       "</div>"
      ],
      "text/plain": [
       "   order_id  customer_id           order_date  flower_id  quantity\n",
       "0         0          335  2024/03/19 10:49 PM          7        26\n",
       "1         1           35  2024/04/16 05:47 AM          5        24\n",
       "2         2          295  2024/03/07 12:25 AM          5        20\n",
       "3         3          421  2024/03/03 03:42 AM          3        22\n",
       "4         4          156  2024/04/11 02:16 PM          4        20"
      ]
     },
     "execution_count": 52,
     "metadata": {},
     "output_type": "execute_result"
    }
   ],
   "source": [
    "orders_df.head()"
   ]
  },
  {
   "cell_type": "code",
   "execution_count": 53,
   "id": "ca0ca588-cede-4e46-91b2-242dba8e098d",
   "metadata": {},
   "outputs": [],
   "source": [
    "orders_df.to_csv('data/orders.csv', index=False)"
   ]
  },
  {
   "cell_type": "markdown",
   "id": "5cd7ddf5-92a2-4c77-9e2b-1f80c8d30a94",
   "metadata": {},
   "source": [
    "# Creating tables for shipments in the database"
   ]
  },
  {
   "cell_type": "code",
   "execution_count": 54,
   "id": "ed84d3f0-c6fb-4ae7-8292-fd8ae392e193",
   "metadata": {},
   "outputs": [],
   "source": [
    "shipment_orders = []\n",
    "counter = 0\n",
    "for i in range(300):\n",
    "    '''Schema: shipment_id, shipment_date, flower_id, quantity'''\n",
    "    shipment_orders.append((counter, \n",
    "                        random_date(\"2023/12/28 1:30 PM\", \"2024/2/11 4:50 AM\", random.random()),\n",
    "                        random.choice(flowers.flower_id),\n",
    "                        random.choice(range(200, 2000))\n",
    "                       ))\n",
    "    counter += 1"
   ]
  },
  {
   "cell_type": "code",
   "execution_count": 55,
   "id": "d81b7b51-dca7-4744-82cd-a98311fb20ab",
   "metadata": {},
   "outputs": [],
   "source": [
    "shipments_df = pd.DataFrame(shipment_orders, columns = ['shipment_id', 'shipment_date', 'flower_id', 'quantity'])"
   ]
  },
  {
   "cell_type": "code",
   "execution_count": 56,
   "id": "62f98bde-4a6c-4b72-a1e1-be2fb39d0544",
   "metadata": {},
   "outputs": [
    {
     "data": {
      "text/html": [
       "<div>\n",
       "<style scoped>\n",
       "    .dataframe tbody tr th:only-of-type {\n",
       "        vertical-align: middle;\n",
       "    }\n",
       "\n",
       "    .dataframe tbody tr th {\n",
       "        vertical-align: top;\n",
       "    }\n",
       "\n",
       "    .dataframe thead th {\n",
       "        text-align: right;\n",
       "    }\n",
       "</style>\n",
       "<table border=\"1\" class=\"dataframe\">\n",
       "  <thead>\n",
       "    <tr style=\"text-align: right;\">\n",
       "      <th></th>\n",
       "      <th>shipment_id</th>\n",
       "      <th>shipment_date</th>\n",
       "      <th>flower_id</th>\n",
       "      <th>quantity</th>\n",
       "    </tr>\n",
       "  </thead>\n",
       "  <tbody>\n",
       "    <tr>\n",
       "      <th>0</th>\n",
       "      <td>0</td>\n",
       "      <td>2024/01/08 05:35 PM</td>\n",
       "      <td>4</td>\n",
       "      <td>738</td>\n",
       "    </tr>\n",
       "    <tr>\n",
       "      <th>1</th>\n",
       "      <td>1</td>\n",
       "      <td>2024/01/09 05:28 AM</td>\n",
       "      <td>5</td>\n",
       "      <td>1673</td>\n",
       "    </tr>\n",
       "    <tr>\n",
       "      <th>2</th>\n",
       "      <td>2</td>\n",
       "      <td>2024/01/11 04:56 PM</td>\n",
       "      <td>10</td>\n",
       "      <td>1330</td>\n",
       "    </tr>\n",
       "    <tr>\n",
       "      <th>3</th>\n",
       "      <td>3</td>\n",
       "      <td>2024/01/19 04:43 AM</td>\n",
       "      <td>0</td>\n",
       "      <td>1950</td>\n",
       "    </tr>\n",
       "    <tr>\n",
       "      <th>4</th>\n",
       "      <td>4</td>\n",
       "      <td>2024/01/19 04:41 PM</td>\n",
       "      <td>4</td>\n",
       "      <td>1853</td>\n",
       "    </tr>\n",
       "    <tr>\n",
       "      <th>...</th>\n",
       "      <td>...</td>\n",
       "      <td>...</td>\n",
       "      <td>...</td>\n",
       "      <td>...</td>\n",
       "    </tr>\n",
       "    <tr>\n",
       "      <th>295</th>\n",
       "      <td>295</td>\n",
       "      <td>2023/12/30 07:14 AM</td>\n",
       "      <td>3</td>\n",
       "      <td>1096</td>\n",
       "    </tr>\n",
       "    <tr>\n",
       "      <th>296</th>\n",
       "      <td>296</td>\n",
       "      <td>2023/12/31 04:37 AM</td>\n",
       "      <td>1</td>\n",
       "      <td>487</td>\n",
       "    </tr>\n",
       "    <tr>\n",
       "      <th>297</th>\n",
       "      <td>297</td>\n",
       "      <td>2024/02/06 05:41 PM</td>\n",
       "      <td>4</td>\n",
       "      <td>1289</td>\n",
       "    </tr>\n",
       "    <tr>\n",
       "      <th>298</th>\n",
       "      <td>298</td>\n",
       "      <td>2024/01/27 12:22 PM</td>\n",
       "      <td>11</td>\n",
       "      <td>1374</td>\n",
       "    </tr>\n",
       "    <tr>\n",
       "      <th>299</th>\n",
       "      <td>299</td>\n",
       "      <td>2024/02/03 10:18 AM</td>\n",
       "      <td>3</td>\n",
       "      <td>1510</td>\n",
       "    </tr>\n",
       "  </tbody>\n",
       "</table>\n",
       "<p>300 rows × 4 columns</p>\n",
       "</div>"
      ],
      "text/plain": [
       "     shipment_id        shipment_date  flower_id  quantity\n",
       "0              0  2024/01/08 05:35 PM          4       738\n",
       "1              1  2024/01/09 05:28 AM          5      1673\n",
       "2              2  2024/01/11 04:56 PM         10      1330\n",
       "3              3  2024/01/19 04:43 AM          0      1950\n",
       "4              4  2024/01/19 04:41 PM          4      1853\n",
       "..           ...                  ...        ...       ...\n",
       "295          295  2023/12/30 07:14 AM          3      1096\n",
       "296          296  2023/12/31 04:37 AM          1       487\n",
       "297          297  2024/02/06 05:41 PM          4      1289\n",
       "298          298  2024/01/27 12:22 PM         11      1374\n",
       "299          299  2024/02/03 10:18 AM          3      1510\n",
       "\n",
       "[300 rows x 4 columns]"
      ]
     },
     "execution_count": 56,
     "metadata": {},
     "output_type": "execute_result"
    }
   ],
   "source": [
    "shipments_df"
   ]
  },
  {
   "cell_type": "code",
   "execution_count": 57,
   "id": "2db7f107-d371-4583-adfb-54d07edddea8",
   "metadata": {},
   "outputs": [],
   "source": [
    "shipments_df.to_csv('data/shipments.csv', index=False)"
   ]
  },
  {
   "cell_type": "code",
   "execution_count": null,
   "id": "3c9000bc-9550-4b8a-8cb3-932c163b84ba",
   "metadata": {},
   "outputs": [],
   "source": []
  },
  {
   "cell_type": "code",
   "execution_count": null,
   "id": "b5fb04ab-b847-45ed-b5c4-00371813fe58",
   "metadata": {},
   "outputs": [],
   "source": []
  }
 ],
 "metadata": {
  "kernelspec": {
   "display_name": "Python 3 (ipykernel)",
   "language": "python",
   "name": "python3"
  },
  "language_info": {
   "codemirror_mode": {
    "name": "ipython",
    "version": 3
   },
   "file_extension": ".py",
   "mimetype": "text/x-python",
   "name": "python",
   "nbconvert_exporter": "python",
   "pygments_lexer": "ipython3",
   "version": "3.11.7"
  }
 },
 "nbformat": 4,
 "nbformat_minor": 5
}
