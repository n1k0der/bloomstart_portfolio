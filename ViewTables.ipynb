{
 "cells": [
  {
   "cell_type": "code",
   "execution_count": 132,
   "id": "502e305a-361a-4173-a5eb-8c2ffd275e2e",
   "metadata": {},
   "outputs": [],
   "source": [
    "import pandas as pd\n",
    "from datetime import datetime"
   ]
  },
  {
   "cell_type": "code",
   "execution_count": 133,
   "id": "0ecde479-638e-47dd-bc28-6399b46c1ef7",
   "metadata": {},
   "outputs": [],
   "source": [
    "customers = pd.read_csv('data/customers.csv')\n",
    "flowers = pd.read_csv('data/flowers.csv')\n",
    "orders = pd.read_csv('data/orders.csv')\n",
    "shipments = pd.read_csv('data/shipments.csv')"
   ]
  },
  {
   "cell_type": "markdown",
   "id": "2591bc22-4e73-4384-93e8-ac73ad5c8be3",
   "metadata": {},
   "source": [
    "# Average damage per shipment"
   ]
  },
  {
   "cell_type": "code",
   "execution_count": 134,
   "id": "0e431de3-3e94-41fb-9c55-907ec9170c3c",
   "metadata": {},
   "outputs": [],
   "source": [
    "shipments_flowers = pd.merge(shipments, flowers, how='inner', on='flower_id')"
   ]
  },
  {
   "cell_type": "code",
   "execution_count": 135,
   "id": "0d7fc6b9-1048-45cb-906d-8cd96f60f275",
   "metadata": {},
   "outputs": [],
   "source": [
    "shipments_flowers.shipment_date = pd.to_datetime(shipments_flowers.shipment_date, format='%Y/%m/%d %I:%M %p')"
   ]
  },
  {
   "cell_type": "code",
   "execution_count": 136,
   "id": "090ca8ef-f0c2-453f-8d58-c1dcdf8f46f1",
   "metadata": {},
   "outputs": [],
   "source": [
    "shipments_flowers['days_in_storage'] = (datetime(2024, 2, 11) - shipments_flowers.shipment_date).dt.days"
   ]
  },
  {
   "cell_type": "code",
   "execution_count": 137,
   "id": "e03ed256-e9fc-47ba-bb88-ef3f47c0eb67",
   "metadata": {},
   "outputs": [],
   "source": [
    "def average_damage(df):\n",
    "    '''receive a dataframe with two columns called \n",
    "    damage_function and days_in_storage \n",
    "    returns the average damage of the shipment which is a\n",
    "    percentaje\n",
    "    '''\n",
    "    df['average_damage'] = (1 / df.damage_function) * df.days_in_storage\n",
    "\n",
    "    for i in df.index:\n",
    "        df.loc[i, 'average_damage'] = min(df.loc[i, 'average_damage'], 100) / 100\n",
    "        \n",
    "    return df"
   ]
  },
  {
   "cell_type": "code",
   "execution_count": 138,
   "id": "5e4985b6-54cc-4e9c-abb4-fe72168ed730",
   "metadata": {},
   "outputs": [],
   "source": [
    "shipments_flowers = average_damage(shipments_flowers)"
   ]
  },
  {
   "cell_type": "code",
   "execution_count": 139,
   "id": "6cdc703a-2aee-4963-b587-a7c1c73d7fa9",
   "metadata": {},
   "outputs": [],
   "source": [
    "shipments_flowers['quantity_no_damage'] = shipments_flowers['quantity'] * (1 - shipments_flowers['average_damage'])"
   ]
  },
  {
   "cell_type": "code",
   "execution_count": 140,
   "id": "aef5f727-5360-4d11-9787-256708136b08",
   "metadata": {},
   "outputs": [
    {
     "data": {
      "text/html": [
       "<div>\n",
       "<style scoped>\n",
       "    .dataframe tbody tr th:only-of-type {\n",
       "        vertical-align: middle;\n",
       "    }\n",
       "\n",
       "    .dataframe tbody tr th {\n",
       "        vertical-align: top;\n",
       "    }\n",
       "\n",
       "    .dataframe thead th {\n",
       "        text-align: right;\n",
       "    }\n",
       "</style>\n",
       "<table border=\"1\" class=\"dataframe\">\n",
       "  <thead>\n",
       "    <tr style=\"text-align: right;\">\n",
       "      <th></th>\n",
       "      <th>shipment_id</th>\n",
       "      <th>shipment_date</th>\n",
       "      <th>flower_id</th>\n",
       "      <th>quantity</th>\n",
       "      <th>flower_name</th>\n",
       "      <th>damage_function</th>\n",
       "      <th>cost_cad</th>\n",
       "      <th>days_in_storage</th>\n",
       "      <th>average_damage</th>\n",
       "      <th>quantity_no_damage</th>\n",
       "    </tr>\n",
       "  </thead>\n",
       "  <tbody>\n",
       "    <tr>\n",
       "      <th>0</th>\n",
       "      <td>0</td>\n",
       "      <td>2024-01-08 17:35:00</td>\n",
       "      <td>4</td>\n",
       "      <td>738</td>\n",
       "      <td>bouquet_rose_orange</td>\n",
       "      <td>1.0</td>\n",
       "      <td>10</td>\n",
       "      <td>33</td>\n",
       "      <td>0.330000</td>\n",
       "      <td>494.460000</td>\n",
       "    </tr>\n",
       "    <tr>\n",
       "      <th>1</th>\n",
       "      <td>1</td>\n",
       "      <td>2024-01-09 05:28:00</td>\n",
       "      <td>5</td>\n",
       "      <td>1673</td>\n",
       "      <td>pom</td>\n",
       "      <td>1.5</td>\n",
       "      <td>7</td>\n",
       "      <td>32</td>\n",
       "      <td>0.213333</td>\n",
       "      <td>1316.093333</td>\n",
       "    </tr>\n",
       "    <tr>\n",
       "      <th>2</th>\n",
       "      <td>2</td>\n",
       "      <td>2024-01-11 16:56:00</td>\n",
       "      <td>10</td>\n",
       "      <td>1330</td>\n",
       "      <td>spiders</td>\n",
       "      <td>2.0</td>\n",
       "      <td>9</td>\n",
       "      <td>30</td>\n",
       "      <td>0.150000</td>\n",
       "      <td>1130.500000</td>\n",
       "    </tr>\n",
       "    <tr>\n",
       "      <th>3</th>\n",
       "      <td>3</td>\n",
       "      <td>2024-01-19 04:43:00</td>\n",
       "      <td>0</td>\n",
       "      <td>1950</td>\n",
       "      <td>alstromelia</td>\n",
       "      <td>3.0</td>\n",
       "      <td>5</td>\n",
       "      <td>22</td>\n",
       "      <td>0.073333</td>\n",
       "      <td>1807.000000</td>\n",
       "    </tr>\n",
       "    <tr>\n",
       "      <th>4</th>\n",
       "      <td>4</td>\n",
       "      <td>2024-01-19 16:41:00</td>\n",
       "      <td>4</td>\n",
       "      <td>1853</td>\n",
       "      <td>bouquet_rose_orange</td>\n",
       "      <td>1.0</td>\n",
       "      <td>10</td>\n",
       "      <td>22</td>\n",
       "      <td>0.220000</td>\n",
       "      <td>1445.340000</td>\n",
       "    </tr>\n",
       "  </tbody>\n",
       "</table>\n",
       "</div>"
      ],
      "text/plain": [
       "   shipment_id       shipment_date  flower_id  quantity          flower_name  \\\n",
       "0            0 2024-01-08 17:35:00          4       738  bouquet_rose_orange   \n",
       "1            1 2024-01-09 05:28:00          5      1673                  pom   \n",
       "2            2 2024-01-11 16:56:00         10      1330              spiders   \n",
       "3            3 2024-01-19 04:43:00          0      1950          alstromelia   \n",
       "4            4 2024-01-19 16:41:00          4      1853  bouquet_rose_orange   \n",
       "\n",
       "   damage_function  cost_cad  days_in_storage  average_damage  \\\n",
       "0              1.0        10               33        0.330000   \n",
       "1              1.5         7               32        0.213333   \n",
       "2              2.0         9               30        0.150000   \n",
       "3              3.0         5               22        0.073333   \n",
       "4              1.0        10               22        0.220000   \n",
       "\n",
       "   quantity_no_damage  \n",
       "0          494.460000  \n",
       "1         1316.093333  \n",
       "2         1130.500000  \n",
       "3         1807.000000  \n",
       "4         1445.340000  "
      ]
     },
     "execution_count": 140,
     "metadata": {},
     "output_type": "execute_result"
    }
   ],
   "source": [
    "shipments_flowers.head()"
   ]
  },
  {
   "cell_type": "code",
   "execution_count": 141,
   "id": "fccf5fcd-a654-433f-8b66-96dfbcbd58c2",
   "metadata": {},
   "outputs": [],
   "source": [
    "flowers_type_damage = shipments_flowers[['flower_id', 'flower_name', 'quantity_no_damage', 'quantity']\n",
    "].groupby(['flower_id', 'flower_name']).sum().reset_index()"
   ]
  },
  {
   "cell_type": "code",
   "execution_count": 142,
   "id": "a74e1e1e-73fc-4c53-9e9b-394d92dde1d9",
   "metadata": {},
   "outputs": [
    {
     "data": {
      "text/html": [
       "<div>\n",
       "<style scoped>\n",
       "    .dataframe tbody tr th:only-of-type {\n",
       "        vertical-align: middle;\n",
       "    }\n",
       "\n",
       "    .dataframe tbody tr th {\n",
       "        vertical-align: top;\n",
       "    }\n",
       "\n",
       "    .dataframe thead th {\n",
       "        text-align: right;\n",
       "    }\n",
       "</style>\n",
       "<table border=\"1\" class=\"dataframe\">\n",
       "  <thead>\n",
       "    <tr style=\"text-align: right;\">\n",
       "      <th></th>\n",
       "      <th>flower_id</th>\n",
       "      <th>flower_name</th>\n",
       "      <th>quantity_no_damage</th>\n",
       "      <th>quantity</th>\n",
       "    </tr>\n",
       "  </thead>\n",
       "  <tbody>\n",
       "    <tr>\n",
       "      <th>0</th>\n",
       "      <td>0</td>\n",
       "      <td>alstromelia</td>\n",
       "      <td>18638.466667</td>\n",
       "      <td>20489</td>\n",
       "    </tr>\n",
       "    <tr>\n",
       "      <th>1</th>\n",
       "      <td>1</td>\n",
       "      <td>bouquet_rose_white</td>\n",
       "      <td>18143.600000</td>\n",
       "      <td>21545</td>\n",
       "    </tr>\n",
       "    <tr>\n",
       "      <th>2</th>\n",
       "      <td>2</td>\n",
       "      <td>bouquet_rose_red</td>\n",
       "      <td>28080.330000</td>\n",
       "      <td>34966</td>\n",
       "    </tr>\n",
       "    <tr>\n",
       "      <th>3</th>\n",
       "      <td>3</td>\n",
       "      <td>bouquet_rose_yellow</td>\n",
       "      <td>21913.780000</td>\n",
       "      <td>28221</td>\n",
       "    </tr>\n",
       "    <tr>\n",
       "      <th>4</th>\n",
       "      <td>4</td>\n",
       "      <td>bouquet_rose_orange</td>\n",
       "      <td>23199.150000</td>\n",
       "      <td>29104</td>\n",
       "    </tr>\n",
       "  </tbody>\n",
       "</table>\n",
       "</div>"
      ],
      "text/plain": [
       "   flower_id          flower_name  quantity_no_damage  quantity\n",
       "0          0          alstromelia        18638.466667     20489\n",
       "1          1   bouquet_rose_white        18143.600000     21545\n",
       "2          2     bouquet_rose_red        28080.330000     34966\n",
       "3          3  bouquet_rose_yellow        21913.780000     28221\n",
       "4          4  bouquet_rose_orange        23199.150000     29104"
      ]
     },
     "execution_count": 142,
     "metadata": {},
     "output_type": "execute_result"
    }
   ],
   "source": [
    "flowers_type_damage.head()"
   ]
  },
  {
   "cell_type": "markdown",
   "id": "8552b5f7-e4da-4c12-9489-cffed3507940",
   "metadata": {},
   "source": [
    "# Orders"
   ]
  },
  {
   "cell_type": "code",
   "execution_count": 143,
   "id": "00a2f98e-3d59-4df9-90e9-6cec2509adef",
   "metadata": {},
   "outputs": [],
   "source": [
    "orders.order_date = pd.to_datetime(orders.order_date, format='%Y/%m/%d %I:%M %p')"
   ]
  },
  {
   "cell_type": "code",
   "execution_count": 144,
   "id": "f048802d-99e2-4005-88f3-2d440861fd67",
   "metadata": {},
   "outputs": [],
   "source": [
    "orders_flowers = pd.merge(orders, flowers, how='inner', on='flower_id')"
   ]
  },
  {
   "cell_type": "code",
   "execution_count": 145,
   "id": "6d0174e5-97ac-490b-b80f-e28f5e196f12",
   "metadata": {},
   "outputs": [],
   "source": [
    "orders_flowers = orders_flowers.drop(columns = 'damage_function')"
   ]
  },
  {
   "cell_type": "code",
   "execution_count": 146,
   "id": "8f97a0cc-5b3e-468a-9204-61436d096ffa",
   "metadata": {},
   "outputs": [
    {
     "data": {
      "text/html": [
       "<div>\n",
       "<style scoped>\n",
       "    .dataframe tbody tr th:only-of-type {\n",
       "        vertical-align: middle;\n",
       "    }\n",
       "\n",
       "    .dataframe tbody tr th {\n",
       "        vertical-align: top;\n",
       "    }\n",
       "\n",
       "    .dataframe thead th {\n",
       "        text-align: right;\n",
       "    }\n",
       "</style>\n",
       "<table border=\"1\" class=\"dataframe\">\n",
       "  <thead>\n",
       "    <tr style=\"text-align: right;\">\n",
       "      <th></th>\n",
       "      <th>order_id</th>\n",
       "      <th>customer_id</th>\n",
       "      <th>order_date</th>\n",
       "      <th>flower_id</th>\n",
       "      <th>quantity</th>\n",
       "      <th>flower_name</th>\n",
       "      <th>cost_cad</th>\n",
       "    </tr>\n",
       "  </thead>\n",
       "  <tbody>\n",
       "    <tr>\n",
       "      <th>0</th>\n",
       "      <td>0</td>\n",
       "      <td>335</td>\n",
       "      <td>2024-03-19 22:49:00</td>\n",
       "      <td>7</td>\n",
       "      <td>26</td>\n",
       "      <td>hydrangea</td>\n",
       "      <td>10</td>\n",
       "    </tr>\n",
       "    <tr>\n",
       "      <th>1</th>\n",
       "      <td>1</td>\n",
       "      <td>35</td>\n",
       "      <td>2024-04-16 05:47:00</td>\n",
       "      <td>5</td>\n",
       "      <td>24</td>\n",
       "      <td>pom</td>\n",
       "      <td>7</td>\n",
       "    </tr>\n",
       "    <tr>\n",
       "      <th>2</th>\n",
       "      <td>2</td>\n",
       "      <td>295</td>\n",
       "      <td>2024-03-07 00:25:00</td>\n",
       "      <td>5</td>\n",
       "      <td>20</td>\n",
       "      <td>pom</td>\n",
       "      <td>7</td>\n",
       "    </tr>\n",
       "    <tr>\n",
       "      <th>3</th>\n",
       "      <td>3</td>\n",
       "      <td>421</td>\n",
       "      <td>2024-03-03 03:42:00</td>\n",
       "      <td>3</td>\n",
       "      <td>22</td>\n",
       "      <td>bouquet_rose_yellow</td>\n",
       "      <td>10</td>\n",
       "    </tr>\n",
       "    <tr>\n",
       "      <th>4</th>\n",
       "      <td>4</td>\n",
       "      <td>156</td>\n",
       "      <td>2024-04-11 14:16:00</td>\n",
       "      <td>4</td>\n",
       "      <td>20</td>\n",
       "      <td>bouquet_rose_orange</td>\n",
       "      <td>10</td>\n",
       "    </tr>\n",
       "  </tbody>\n",
       "</table>\n",
       "</div>"
      ],
      "text/plain": [
       "   order_id  customer_id          order_date  flower_id  quantity  \\\n",
       "0         0          335 2024-03-19 22:49:00          7        26   \n",
       "1         1           35 2024-04-16 05:47:00          5        24   \n",
       "2         2          295 2024-03-07 00:25:00          5        20   \n",
       "3         3          421 2024-03-03 03:42:00          3        22   \n",
       "4         4          156 2024-04-11 14:16:00          4        20   \n",
       "\n",
       "           flower_name  cost_cad  \n",
       "0            hydrangea        10  \n",
       "1                  pom         7  \n",
       "2                  pom         7  \n",
       "3  bouquet_rose_yellow        10  \n",
       "4  bouquet_rose_orange        10  "
      ]
     },
     "execution_count": 146,
     "metadata": {},
     "output_type": "execute_result"
    }
   ],
   "source": [
    "orders_flowers.head()"
   ]
  },
  {
   "cell_type": "markdown",
   "id": "a556b3d4-3930-4a8a-82ab-1be2f362c366",
   "metadata": {},
   "source": [
    "# Money loss"
   ]
  },
  {
   "cell_type": "code",
   "execution_count": 147,
   "id": "c26eac59-bae8-472c-b18c-e1c458e7946d",
   "metadata": {},
   "outputs": [],
   "source": [
    "shipments_flowers['money_lost_damage'] = (shipments_flowers['quantity'] - shipments_flowers['quantity_no_damage']\n",
    "                                         ) * shipments_flowers['cost_cad']"
   ]
  },
  {
   "cell_type": "code",
   "execution_count": 148,
   "id": "43b5bd06-721a-4362-be86-69a6dd807135",
   "metadata": {},
   "outputs": [
    {
     "data": {
      "text/plain": [
       "380564.31166666665"
      ]
     },
     "execution_count": 148,
     "metadata": {},
     "output_type": "execute_result"
    }
   ],
   "source": [
    "shipments_flowers.money_lost_damage.sum()"
   ]
  },
  {
   "cell_type": "code",
   "execution_count": 149,
   "id": "841ed022-831f-414f-879d-c485ba1da3f8",
   "metadata": {},
   "outputs": [],
   "source": [
    "shipments_flowers['inventory_gross_value'] = shipments_flowers['quantity'] * shipments_flowers['cost_cad']"
   ]
  },
  {
   "cell_type": "code",
   "execution_count": 150,
   "id": "39967419-29fe-424d-9c29-c6e365a63c5f",
   "metadata": {},
   "outputs": [
    {
     "data": {
      "text/plain": [
       "2392058"
      ]
     },
     "execution_count": 150,
     "metadata": {},
     "output_type": "execute_result"
    }
   ],
   "source": [
    "shipments_flowers.inventory_gross_value.sum()"
   ]
  },
  {
   "cell_type": "markdown",
   "id": "51a66672-48f8-487a-9ee5-14848fb3239c",
   "metadata": {},
   "source": [
    "# Create views"
   ]
  },
  {
   "cell_type": "code",
   "execution_count": 151,
   "id": "b0487657-6135-4b6f-b8ae-f231c4fee721",
   "metadata": {},
   "outputs": [],
   "source": [
    "shipments_flowers.to_csv('views/shipments_flowers.csv', index=False)\n",
    "flowers_type_damage.to_csv('views/flowers_type_damage.csv', index=False)\n",
    "orders_flowers.to_csv('views/orders_flowers.csv', index=False)"
   ]
  },
  {
   "cell_type": "code",
   "execution_count": null,
   "id": "a0fbeadf-38ef-401c-b30e-cb75fdcda64f",
   "metadata": {},
   "outputs": [],
   "source": []
  },
  {
   "cell_type": "code",
   "execution_count": null,
   "id": "b1f5081e-4b67-41c6-bf4f-76376277c395",
   "metadata": {},
   "outputs": [],
   "source": []
  }
 ],
 "metadata": {
  "kernelspec": {
   "display_name": "Python 3 (ipykernel)",
   "language": "python",
   "name": "python3"
  },
  "language_info": {
   "codemirror_mode": {
    "name": "ipython",
    "version": 3
   },
   "file_extension": ".py",
   "mimetype": "text/x-python",
   "name": "python",
   "nbconvert_exporter": "python",
   "pygments_lexer": "ipython3",
   "version": "3.11.7"
  }
 },
 "nbformat": 4,
 "nbformat_minor": 5
}
